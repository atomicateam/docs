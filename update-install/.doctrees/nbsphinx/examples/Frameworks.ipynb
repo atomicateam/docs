{
 "cells": [
  {
   "cell_type": "markdown",
   "metadata": {},
   "source": [
    "# Frameworks\n",
    "\n"
   ]
  },
  {
   "cell_type": "markdown",
   "metadata": {},
   "source": [
    "The _framework_ is an object that represents the transition structure of the model in Atomica. It contains a listing of all of the compartments, characteristics, and parameters, as well as the transition matrix that links parameters with transitions between compartments. It does not contain a specification of the populations, because these are entered in the databook. This page assumes familiarity with basic Atomica concepts (e.g., compartments, characteristics, parameters, populations) and is intended as technical documentation on the implementation of the framework."
   ]
  },
  {
   "cell_type": "code",
   "execution_count": 1,
   "metadata": {
    "execution": {
     "iopub.execute_input": "2025-05-30T20:04:43.155801Z",
     "iopub.status.busy": "2025-05-30T20:04:43.154434Z",
     "iopub.status.idle": "2025-05-30T20:04:45.242271Z",
     "shell.execute_reply": "2025-05-30T20:04:45.241313Z"
    }
   },
   "outputs": [],
   "source": [
    "import pandas as pd\n",
    "import atomica as at"
   ]
  },
  {
   "cell_type": "markdown",
   "metadata": {},
   "source": [
    "A 'framework' exists in two forms:\n",
    "\n",
    "- The 'framework file' which is an `xlsx` file, such as `framework_tb.xlsx`\n",
    "- A Python object, `ProjectFramework`, which is stored in `Project.framework` and is constructed by parsing the framework file\n",
    "\n",
    "On the user input side, users of Atomica implementing new cascade models etc. will typically be modifying the framework file. On the development size, Python code can generally expect to interact with the `ProjectFramework` object. A key goal is to make the `ProjectFramework` as flexible as possible to accommodate changes in the Excel file, to maximize the extent to which changes in a project can be performed in the framework file without needing complex changes in the codebase."
   ]
  },
  {
   "cell_type": "markdown",
   "metadata": {},
   "source": [
    "## `ProjectFramework` basics\n",
    "\n",
    "The `ProjectFramework` class stores a parsed, validated representation of the framework file. The framework file consists of a set of sheets, with content on each of the sheets. An example from the TB framework is shown below\n",
    "\n",
    "![framework-overview-example](assets/framework_overview_example.png)"
   ]
  },
  {
   "cell_type": "markdown",
   "metadata": {},
   "source": [
    "Here we can see that there are a number of worksheets in the file ('Databook Pages', 'Compartments', 'Transitions',...) and there is of course content on each sheet. \n",
    "\n",
    "The `ProjectFramework` contains a member variable, `sheets`, which is an odict where the key is the sheet name and the value is a list of Pandas `DataFrames` that contains all of the tables on that sheet. A table is defined as a rectangular range of cells terminated by an empty row."
   ]
  },
  {
   "cell_type": "code",
   "execution_count": 2,
   "metadata": {
    "execution": {
     "iopub.execute_input": "2025-05-30T20:04:45.246451Z",
     "iopub.status.busy": "2025-05-30T20:04:45.246024Z",
     "iopub.status.idle": "2025-05-30T20:04:45.849017Z",
     "shell.execute_reply": "2025-05-30T20:04:45.848264Z"
    }
   },
   "outputs": [
    {
     "data": {
      "text/plain": [
       "['about',\n",
       " 'databook pages',\n",
       " 'compartments',\n",
       " 'transitions',\n",
       " 'characteristics',\n",
       " 'interactions',\n",
       " 'parameters',\n",
       " 'cascades',\n",
       " 'plots',\n",
       " '#ignore extra plots',\n",
       " 'population types']"
      ]
     },
     "execution_count": 2,
     "metadata": {},
     "output_type": "execute_result"
    }
   ],
   "source": [
    "F = at.ProjectFramework(at.LIBRARY_PATH / \"tb_framework.xlsx\")\n",
    "F.sheets.keys()"
   ]
  },
  {
   "cell_type": "markdown",
   "metadata": {},
   "source": [
    "<div class='alert alert-warning'>\n",
    "Notice that the sheet names are all converted to lowercase!\n",
    "</div>"
   ]
  },
  {
   "cell_type": "code",
   "execution_count": 3,
   "metadata": {
    "execution": {
     "iopub.execute_input": "2025-05-30T20:04:45.852984Z",
     "iopub.status.busy": "2025-05-30T20:04:45.852470Z",
     "iopub.status.idle": "2025-05-30T20:04:45.866534Z",
     "shell.execute_reply": "2025-05-30T20:04:45.865832Z"
    }
   },
   "outputs": [
    {
     "data": {
      "text/html": [
       "<div>\n",
       "<style scoped>\n",
       "    .dataframe tbody tr th:only-of-type {\n",
       "        vertical-align: middle;\n",
       "    }\n",
       "\n",
       "    .dataframe tbody tr th {\n",
       "        vertical-align: top;\n",
       "    }\n",
       "\n",
       "    .dataframe thead th {\n",
       "        text-align: right;\n",
       "    }\n",
       "</style>\n",
       "<table border=\"1\" class=\"dataframe\">\n",
       "  <thead>\n",
       "    <tr style=\"text-align: right;\">\n",
       "      <th></th>\n",
       "      <th>datasheet code name</th>\n",
       "      <th>datasheet title</th>\n",
       "    </tr>\n",
       "  </thead>\n",
       "  <tbody>\n",
       "    <tr>\n",
       "      <th>1</th>\n",
       "      <td>sh_pop</td>\n",
       "      <td>Demographics</td>\n",
       "    </tr>\n",
       "    <tr>\n",
       "      <th>2</th>\n",
       "      <td>sh_notif</td>\n",
       "      <td>Notifications</td>\n",
       "    </tr>\n",
       "    <tr>\n",
       "      <th>3</th>\n",
       "      <td>sh_treat</td>\n",
       "      <td>Treatment outcomes</td>\n",
       "    </tr>\n",
       "    <tr>\n",
       "      <th>4</th>\n",
       "      <td>sh_ltreat</td>\n",
       "      <td>Latent treatment</td>\n",
       "    </tr>\n",
       "    <tr>\n",
       "      <th>5</th>\n",
       "      <td>sh_init</td>\n",
       "      <td>Initialization estimates</td>\n",
       "    </tr>\n",
       "    <tr>\n",
       "      <th>6</th>\n",
       "      <td>sh_newinf</td>\n",
       "      <td>New infections proportions</td>\n",
       "    </tr>\n",
       "    <tr>\n",
       "      <th>7</th>\n",
       "      <td>sh_opt</td>\n",
       "      <td>Optional data</td>\n",
       "    </tr>\n",
       "    <tr>\n",
       "      <th>8</th>\n",
       "      <td>sh_inf</td>\n",
       "      <td>Infection susceptibility</td>\n",
       "    </tr>\n",
       "    <tr>\n",
       "      <th>9</th>\n",
       "      <td>sh_untpro</td>\n",
       "      <td>Untreated TB progression rates</td>\n",
       "    </tr>\n",
       "    <tr>\n",
       "      <th>10</th>\n",
       "      <td>sh_dalys</td>\n",
       "      <td>DALYs</td>\n",
       "    </tr>\n",
       "  </tbody>\n",
       "</table>\n",
       "</div>"
      ],
      "text/plain": [
       "   datasheet code name                 datasheet title\n",
       "1               sh_pop                    Demographics\n",
       "2             sh_notif                   Notifications\n",
       "3             sh_treat              Treatment outcomes\n",
       "4            sh_ltreat                Latent treatment\n",
       "5              sh_init        Initialization estimates\n",
       "6            sh_newinf      New infections proportions\n",
       "7               sh_opt                   Optional data\n",
       "8               sh_inf        Infection susceptibility\n",
       "9            sh_untpro  Untreated TB progression rates\n",
       "10            sh_dalys                           DALYs"
      ]
     },
     "execution_count": 3,
     "metadata": {},
     "output_type": "execute_result"
    }
   ],
   "source": [
    "F.sheets['databook pages'][0]"
   ]
  },
  {
   "cell_type": "markdown",
   "metadata": {},
   "source": [
    "Some sheets contain multiple elements. For example, consider the 'Cascades' sheet here:\n",
    "\n",
    "![framework-cascade-example](assets/framework_cascade_example.png)"
   ]
  },
  {
   "cell_type": "markdown",
   "metadata": {},
   "source": [
    "Intuitively, this sheet contains two separate 'tables' that each have a heading row, and they are separated by a blank row. When a worksheet is parsed, if there are any blank rows, multiple `DataFrames` will be instantiated, one for each 'table' present on the page. As shown below, `F.sheets['cascades']` is a list of `DataFrames`, and each `DataFrame` stores the contents of one of the tables:"
   ]
  },
  {
   "cell_type": "code",
   "execution_count": 4,
   "metadata": {
    "execution": {
     "iopub.execute_input": "2025-05-30T20:04:45.869684Z",
     "iopub.status.busy": "2025-05-30T20:04:45.869426Z",
     "iopub.status.idle": "2025-05-30T20:04:45.877881Z",
     "shell.execute_reply": "2025-05-30T20:04:45.877113Z"
    }
   },
   "outputs": [
    {
     "data": {
      "text/plain": [
       "list"
      ]
     },
     "execution_count": 4,
     "metadata": {},
     "output_type": "execute_result"
    }
   ],
   "source": [
    "type(F.sheets['cascades'])"
   ]
  },
  {
   "cell_type": "code",
   "execution_count": 5,
   "metadata": {
    "execution": {
     "iopub.execute_input": "2025-05-30T20:04:45.881265Z",
     "iopub.status.busy": "2025-05-30T20:04:45.880956Z",
     "iopub.status.idle": "2025-05-30T20:04:45.888710Z",
     "shell.execute_reply": "2025-05-30T20:04:45.887847Z"
    }
   },
   "outputs": [
    {
     "data": {
      "text/plain": [
       "3"
      ]
     },
     "execution_count": 5,
     "metadata": {},
     "output_type": "execute_result"
    }
   ],
   "source": [
    "len(F.sheets['cascades'])"
   ]
  },
  {
   "cell_type": "code",
   "execution_count": 6,
   "metadata": {
    "execution": {
     "iopub.execute_input": "2025-05-30T20:04:45.893328Z",
     "iopub.status.busy": "2025-05-30T20:04:45.891956Z",
     "iopub.status.idle": "2025-05-30T20:04:45.902983Z",
     "shell.execute_reply": "2025-05-30T20:04:45.902247Z"
    }
   },
   "outputs": [
    {
     "data": {
      "text/html": [
       "<div>\n",
       "<style scoped>\n",
       "    .dataframe tbody tr th:only-of-type {\n",
       "        vertical-align: middle;\n",
       "    }\n",
       "\n",
       "    .dataframe tbody tr th {\n",
       "        vertical-align: top;\n",
       "    }\n",
       "\n",
       "    .dataframe thead th {\n",
       "        text-align: right;\n",
       "    }\n",
       "</style>\n",
       "<table border=\"1\" class=\"dataframe\">\n",
       "  <thead>\n",
       "    <tr style=\"text-align: right;\">\n",
       "      <th></th>\n",
       "      <th>TB treatment (including recovered)</th>\n",
       "      <th>constituents</th>\n",
       "    </tr>\n",
       "  </thead>\n",
       "  <tbody>\n",
       "    <tr>\n",
       "      <th>1</th>\n",
       "      <td>Active TB</td>\n",
       "      <td>ac_inf</td>\n",
       "    </tr>\n",
       "    <tr>\n",
       "      <th>2</th>\n",
       "      <td>Diagnosed</td>\n",
       "      <td>known_inf</td>\n",
       "    </tr>\n",
       "    <tr>\n",
       "      <th>3</th>\n",
       "      <td>Treated</td>\n",
       "      <td>num_treat</td>\n",
       "    </tr>\n",
       "  </tbody>\n",
       "</table>\n",
       "</div>"
      ],
      "text/plain": [
       "  TB treatment (including recovered) constituents\n",
       "1                          Active TB       ac_inf\n",
       "2                          Diagnosed    known_inf\n",
       "3                            Treated    num_treat"
      ]
     },
     "execution_count": 6,
     "metadata": {},
     "output_type": "execute_result"
    }
   ],
   "source": [
    "F.sheets['cascades'][0]"
   ]
  },
  {
   "cell_type": "code",
   "execution_count": 7,
   "metadata": {
    "execution": {
     "iopub.execute_input": "2025-05-30T20:04:45.905977Z",
     "iopub.status.busy": "2025-05-30T20:04:45.905681Z",
     "iopub.status.idle": "2025-05-30T20:04:45.917407Z",
     "shell.execute_reply": "2025-05-30T20:04:45.916584Z"
    }
   },
   "outputs": [
    {
     "data": {
      "text/html": [
       "<div>\n",
       "<style scoped>\n",
       "    .dataframe tbody tr th:only-of-type {\n",
       "        vertical-align: middle;\n",
       "    }\n",
       "\n",
       "    .dataframe tbody tr th {\n",
       "        vertical-align: top;\n",
       "    }\n",
       "\n",
       "    .dataframe thead th {\n",
       "        text-align: right;\n",
       "    }\n",
       "</style>\n",
       "<table border=\"1\" class=\"dataframe\">\n",
       "  <thead>\n",
       "    <tr style=\"text-align: right;\">\n",
       "      <th></th>\n",
       "      <th>SP treatment</th>\n",
       "      <th>constituents</th>\n",
       "    </tr>\n",
       "  </thead>\n",
       "  <tbody>\n",
       "    <tr>\n",
       "      <th>1</th>\n",
       "      <td>Active SP-TB</td>\n",
       "      <td>sp_inf</td>\n",
       "    </tr>\n",
       "    <tr>\n",
       "      <th>2</th>\n",
       "      <td>Diagnosed</td>\n",
       "      <td>spdk_inf,spmk_inf,spxk_inf</td>\n",
       "    </tr>\n",
       "    <tr>\n",
       "      <th>3</th>\n",
       "      <td>Treated</td>\n",
       "      <td>spdt,spmt,spxt</td>\n",
       "    </tr>\n",
       "  </tbody>\n",
       "</table>\n",
       "</div>"
      ],
      "text/plain": [
       "   SP treatment                constituents\n",
       "1  Active SP-TB                      sp_inf\n",
       "2     Diagnosed  spdk_inf,spmk_inf,spxk_inf\n",
       "3       Treated              spdt,spmt,spxt"
      ]
     },
     "execution_count": 7,
     "metadata": {},
     "output_type": "execute_result"
    }
   ],
   "source": [
    "F.sheets['cascades'][1]"
   ]
  },
  {
   "cell_type": "markdown",
   "metadata": {},
   "source": [
    "<div class=\"alert alert-success\">\n",
    "The code parses Excel sheets into `DataFrames` in `ProjectFramework.__init__()` and **this initial stage of parsing is blind to the contents of the worksheet**. This means that all columns of all sheets will be loaded into `DataFrames`. Any new columns added by the user in the framework file will automatically appear in the `DataFrame` when the framework file is loaded.\n",
    "</div>"
   ]
  },
  {
   "cell_type": "markdown",
   "metadata": {},
   "source": [
    "### Accessing the data\n",
    "\n",
    "You can access the contents from the Excel file by operating on the `DataFrame`. Notice how in the previous examples, the first row of each 'table' is assumed to be a heading and is set as the `Columns` property of the `DataFrame`. This means those column names can be used as normal to index the `DataFrame`:"
   ]
  },
  {
   "cell_type": "code",
   "execution_count": 8,
   "metadata": {
    "execution": {
     "iopub.execute_input": "2025-05-30T20:04:45.921248Z",
     "iopub.status.busy": "2025-05-30T20:04:45.920204Z",
     "iopub.status.idle": "2025-05-30T20:04:45.933164Z",
     "shell.execute_reply": "2025-05-30T20:04:45.932211Z"
    }
   },
   "outputs": [
    {
     "data": {
      "text/html": [
       "<div>\n",
       "<style scoped>\n",
       "    .dataframe tbody tr th:only-of-type {\n",
       "        vertical-align: middle;\n",
       "    }\n",
       "\n",
       "    .dataframe tbody tr th {\n",
       "        vertical-align: top;\n",
       "    }\n",
       "\n",
       "    .dataframe thead th {\n",
       "        text-align: right;\n",
       "    }\n",
       "</style>\n",
       "<table border=\"1\" class=\"dataframe\">\n",
       "  <thead>\n",
       "    <tr style=\"text-align: right;\">\n",
       "      <th></th>\n",
       "      <th>datasheet code name</th>\n",
       "      <th>datasheet title</th>\n",
       "    </tr>\n",
       "  </thead>\n",
       "  <tbody>\n",
       "    <tr>\n",
       "      <th>1</th>\n",
       "      <td>sh_pop</td>\n",
       "      <td>Demographics</td>\n",
       "    </tr>\n",
       "    <tr>\n",
       "      <th>2</th>\n",
       "      <td>sh_notif</td>\n",
       "      <td>Notifications</td>\n",
       "    </tr>\n",
       "    <tr>\n",
       "      <th>3</th>\n",
       "      <td>sh_treat</td>\n",
       "      <td>Treatment outcomes</td>\n",
       "    </tr>\n",
       "    <tr>\n",
       "      <th>4</th>\n",
       "      <td>sh_ltreat</td>\n",
       "      <td>Latent treatment</td>\n",
       "    </tr>\n",
       "    <tr>\n",
       "      <th>5</th>\n",
       "      <td>sh_init</td>\n",
       "      <td>Initialization estimates</td>\n",
       "    </tr>\n",
       "    <tr>\n",
       "      <th>6</th>\n",
       "      <td>sh_newinf</td>\n",
       "      <td>New infections proportions</td>\n",
       "    </tr>\n",
       "    <tr>\n",
       "      <th>7</th>\n",
       "      <td>sh_opt</td>\n",
       "      <td>Optional data</td>\n",
       "    </tr>\n",
       "    <tr>\n",
       "      <th>8</th>\n",
       "      <td>sh_inf</td>\n",
       "      <td>Infection susceptibility</td>\n",
       "    </tr>\n",
       "    <tr>\n",
       "      <th>9</th>\n",
       "      <td>sh_untpro</td>\n",
       "      <td>Untreated TB progression rates</td>\n",
       "    </tr>\n",
       "    <tr>\n",
       "      <th>10</th>\n",
       "      <td>sh_dalys</td>\n",
       "      <td>DALYs</td>\n",
       "    </tr>\n",
       "  </tbody>\n",
       "</table>\n",
       "</div>"
      ],
      "text/plain": [
       "   datasheet code name                 datasheet title\n",
       "1               sh_pop                    Demographics\n",
       "2             sh_notif                   Notifications\n",
       "3             sh_treat              Treatment outcomes\n",
       "4            sh_ltreat                Latent treatment\n",
       "5              sh_init        Initialization estimates\n",
       "6            sh_newinf      New infections proportions\n",
       "7               sh_opt                   Optional data\n",
       "8               sh_inf        Infection susceptibility\n",
       "9            sh_untpro  Untreated TB progression rates\n",
       "10            sh_dalys                           DALYs"
      ]
     },
     "execution_count": 8,
     "metadata": {},
     "output_type": "execute_result"
    }
   ],
   "source": [
    "# This is the DataFrame from the 'Databook Pages' sheet\n",
    "F.sheets['databook pages'][0]"
   ]
  },
  {
   "cell_type": "markdown",
   "metadata": {},
   "source": [
    "<div class=\"alert alert-warning\">\n",
    "Notice that the column titles are all converted to lowercase!\n",
    "</div>"
   ]
  },
  {
   "cell_type": "code",
   "execution_count": 9,
   "metadata": {
    "execution": {
     "iopub.execute_input": "2025-05-30T20:04:45.936322Z",
     "iopub.status.busy": "2025-05-30T20:04:45.936031Z",
     "iopub.status.idle": "2025-05-30T20:04:45.946081Z",
     "shell.execute_reply": "2025-05-30T20:04:45.945343Z"
    }
   },
   "outputs": [
    {
     "data": {
      "text/plain": [
       "1                       Demographics\n",
       "2                      Notifications\n",
       "3                 Treatment outcomes\n",
       "4                   Latent treatment\n",
       "5           Initialization estimates\n",
       "6         New infections proportions\n",
       "7                      Optional data\n",
       "8           Infection susceptibility\n",
       "9     Untreated TB progression rates\n",
       "10                             DALYs\n",
       "Name: datasheet title, dtype: object"
      ]
     },
     "execution_count": 9,
     "metadata": {},
     "output_type": "execute_result"
    }
   ],
   "source": [
    "# This is a listing of just the 'Datasheet Title' column. The name should be an identical match\n",
    "# to the title in the Excel file. These titles are set directly based on the contents of the Excel\n",
    "# file. If the title is changed in the Excel file, then references to it in the code will need\n",
    "# to be updated in order to reflect this\n",
    "F.sheets['databook pages'][0]['datasheet title']"
   ]
  },
  {
   "cell_type": "markdown",
   "metadata": {},
   "source": [
    "<div class=\"alert alert-success\">\n",
    "As these are just ordinary `DataFrames`, you can work with them in the same way as any other `DataFrame` in regards to indexing, accessing rows/columns, filling values etc. \n",
    "</div>"
   ]
  },
  {
   "cell_type": "markdown",
   "metadata": {},
   "source": [
    "### Exporting a Framework\n",
    "\n",
    "By design, although a `ProjectFramework` can be pickled and saved as an object, it cannot be exported back to a spreadsheet. Users are not expected to require the ability to programatically modify framework files (in contrast, they _are_ expected to programatically modify databooks)."
   ]
  },
  {
   "cell_type": "markdown",
   "metadata": {},
   "source": [
    "### Making a new Framework\n",
    "\n",
    "It is no longer necessary to export a blank framework file from the code - simply copy `atomica/core/framework_template.xlsx` to start a new template. That Excel file now has a lot of extra validation and autocompletion to facilitate creating new Frameworks. This will be outlined in detail in the user guide."
   ]
  },
  {
   "cell_type": "markdown",
   "metadata": {},
   "source": [
    "### Validating the input\n",
    "\n",
    "When a `ProjectFramework` is instantiated, it will read in everything in the Excel file. However, it is up to the code to actually use the variables contained in the framework. For example, a new column could be added to store an additional property of say, a compartment. However, it won't have any effect on the simulation unless code is written to take advantage of this (e.g., `model.py` might use the new property to treat those compartments differently).\n",
    "\n",
    "This presents a challenge - what should be done if the `ProjectFramework` does not contain something that is required by the code? The simplest solution is that the user's custom code can simply check whether a particular sheet, a particular column, or a particular value is present in the `ProjectFramework` and act accordingly. \n",
    "\n",
    "If you don't want the logic of your code to be complicated by the additional validation checks, or if the code is performance-critical and you only want to validate values once, you can instead perform the validation when the `ProjectFramework` is loaded. The method `ProjectFramework._validate()` is automatically called after the spreadsheet is read in. At the moment, it mainly contains validation of the basic elements of an Atomica model - for example, ensuring that compartments, characteristics, parameters, and the transition matrix are present. Here are some of the standard checks that are performed\n",
    "\n",
    "1. Requiring that a sheet is present - an error will be thrown if the sheet is missing. For example, if the 'Compartments' sheet is missing, then the Framework is essentially unusable\n",
    "2. Checking whether a property is present - for example, if the 'Compartments' page is missing the 'Code Name' column then the Framework is considered unusable \n",
    "3. Validating the contents of specified fields - for example, the 'Is Source' field for a compartment can only be 'y' or 'n' so an error will result if a different value was entered in the framework file\n",
    "4. Filling in any missing values with defaults - for example, if a 'Compartment' has an empty cell for 'Is Source' then it will default to 'no'\n",
    "\n",
    "The last three of those checks are implemented in `framework.py:sanitize_dataframe()` so they can be readily used for any `DataFrame` that is loaded in.\n",
    "\n",
    "In addition to this, arbitrary validation can also be performed at this point. For example, `ProjectFramework._validate()` checks here that there are no transitions from a normal compartment to a source compartment. \n",
    "\n"
   ]
  },
  {
   "cell_type": "markdown",
   "metadata": {},
   "source": [
    "## Adding a quantity to the Framework\n",
    "\n",
    "<div class=\"alert alert-success\">\n",
    "Adding something to the Framework can be done simply by adding an extra column or extra sheet. `DataFrames` associated with every Table on the page will be created. These can then be accessed directly from the Framework. In the simplest case, you can perform validation (like checking if a quantity was provided in the framework) at the point you want to use the quantity. \n",
    "</div>\n",
    "\n",
    "However, if you want to validate the new variables when the framework is loaded, then you will need to modify `ProjectFramework._validate()`. To add a default quantity, look at how default values for compartments etc. are handled in that function. \n"
   ]
  },
  {
   "cell_type": "markdown",
   "metadata": {},
   "source": [
    "## Convenience methods\n",
    "\n",
    "First and foremost, the role of the `ProjectFramework` is to store information about compartments, characteristics, parameters, interactions, and transitions, because those are are the fundamental building blocks of `Model` objects, and simulations cannot be run without them. These are accessed so frequently that the `ProjectFramework` provides some special methods to facilitate working with them. \n",
    "\n",
    "First, the `Transitions` sheet is handled in a special way. As with every other sheet, it appears in the `.sheets` property:"
   ]
  },
  {
   "cell_type": "code",
   "execution_count": 10,
   "metadata": {
    "execution": {
     "iopub.execute_input": "2025-05-30T20:04:45.950063Z",
     "iopub.status.busy": "2025-05-30T20:04:45.949764Z",
     "iopub.status.idle": "2025-05-30T20:04:45.974776Z",
     "shell.execute_reply": "2025-05-30T20:04:45.974095Z"
    }
   },
   "outputs": [
    {
     "data": {
      "text/html": [
       "<div>\n",
       "<style scoped>\n",
       "    .dataframe tbody tr th:only-of-type {\n",
       "        vertical-align: middle;\n",
       "    }\n",
       "\n",
       "    .dataframe tbody tr th {\n",
       "        vertical-align: top;\n",
       "    }\n",
       "\n",
       "    .dataframe thead th {\n",
       "        text-align: right;\n",
       "    }\n",
       "</style>\n",
       "<table border=\"1\" class=\"dataframe\">\n",
       "  <thead>\n",
       "    <tr style=\"text-align: right;\">\n",
       "      <th></th>\n",
       "      <th>default</th>\n",
       "      <th>initj</th>\n",
       "      <th>sus</th>\n",
       "      <th>vac</th>\n",
       "      <th>lteu</th>\n",
       "      <th>ltet</th>\n",
       "      <th>ltetoj</th>\n",
       "      <th>ltlu</th>\n",
       "      <th>ltlt</th>\n",
       "      <th>ltltoj</th>\n",
       "      <th>...</th>\n",
       "      <th>snxd</th>\n",
       "      <th>snxt</th>\n",
       "      <th>snxtoj</th>\n",
       "      <th>acr</th>\n",
       "      <th>bir</th>\n",
       "      <th>immi</th>\n",
       "      <th>imj</th>\n",
       "      <th>ddis</th>\n",
       "      <th>doth</th>\n",
       "      <th>emi</th>\n",
       "    </tr>\n",
       "  </thead>\n",
       "  <tbody>\n",
       "    <tr>\n",
       "      <th>1</th>\n",
       "      <td>initj</td>\n",
       "      <td>None</td>\n",
       "      <td>sus_idiv</td>\n",
       "      <td>vac_idiv</td>\n",
       "      <td>lteu_idiv</td>\n",
       "      <td>ltet_idiv</td>\n",
       "      <td>None</td>\n",
       "      <td>ltlu_idiv</td>\n",
       "      <td>ltlt_idiv</td>\n",
       "      <td>None</td>\n",
       "      <td>...</td>\n",
       "      <td>snxd_idiv</td>\n",
       "      <td>snxt_idiv</td>\n",
       "      <td>None</td>\n",
       "      <td>acr_idiv</td>\n",
       "      <td>None</td>\n",
       "      <td>None</td>\n",
       "      <td>None</td>\n",
       "      <td>None</td>\n",
       "      <td>None</td>\n",
       "      <td>None</td>\n",
       "    </tr>\n",
       "    <tr>\n",
       "      <th>2</th>\n",
       "      <td>sus</td>\n",
       "      <td>None</td>\n",
       "      <td>None</td>\n",
       "      <td>v_num</td>\n",
       "      <td>l_inf</td>\n",
       "      <td>None</td>\n",
       "      <td>None</td>\n",
       "      <td>None</td>\n",
       "      <td>None</td>\n",
       "      <td>None</td>\n",
       "      <td>...</td>\n",
       "      <td>None</td>\n",
       "      <td>None</td>\n",
       "      <td>None</td>\n",
       "      <td>None</td>\n",
       "      <td>None</td>\n",
       "      <td>None</td>\n",
       "      <td>None</td>\n",
       "      <td>None</td>\n",
       "      <td>doth_rate</td>\n",
       "      <td>e_rate</td>\n",
       "    </tr>\n",
       "    <tr>\n",
       "      <th>3</th>\n",
       "      <td>vac</td>\n",
       "      <td>None</td>\n",
       "      <td>None</td>\n",
       "      <td>None</td>\n",
       "      <td>None</td>\n",
       "      <td>None</td>\n",
       "      <td>None</td>\n",
       "      <td>None</td>\n",
       "      <td>None</td>\n",
       "      <td>None</td>\n",
       "      <td>...</td>\n",
       "      <td>None</td>\n",
       "      <td>None</td>\n",
       "      <td>None</td>\n",
       "      <td>None</td>\n",
       "      <td>None</td>\n",
       "      <td>None</td>\n",
       "      <td>None</td>\n",
       "      <td>None</td>\n",
       "      <td>doth_rate</td>\n",
       "      <td>e_rate</td>\n",
       "    </tr>\n",
       "    <tr>\n",
       "      <th>4</th>\n",
       "      <td>lteu</td>\n",
       "      <td>None</td>\n",
       "      <td>None</td>\n",
       "      <td>None</td>\n",
       "      <td>None</td>\n",
       "      <td>le_ntreat</td>\n",
       "      <td>None</td>\n",
       "      <td>lu_prog</td>\n",
       "      <td>None</td>\n",
       "      <td>None</td>\n",
       "      <td>...</td>\n",
       "      <td>None</td>\n",
       "      <td>None</td>\n",
       "      <td>None</td>\n",
       "      <td>None</td>\n",
       "      <td>None</td>\n",
       "      <td>None</td>\n",
       "      <td>None</td>\n",
       "      <td>None</td>\n",
       "      <td>doth_rate</td>\n",
       "      <td>e_rate</td>\n",
       "    </tr>\n",
       "    <tr>\n",
       "      <th>5</th>\n",
       "      <td>ltet</td>\n",
       "      <td>None</td>\n",
       "      <td>None</td>\n",
       "      <td>None</td>\n",
       "      <td>None</td>\n",
       "      <td>None</td>\n",
       "      <td>ltt_dur</td>\n",
       "      <td>None</td>\n",
       "      <td>None</td>\n",
       "      <td>None</td>\n",
       "      <td>...</td>\n",
       "      <td>None</td>\n",
       "      <td>None</td>\n",
       "      <td>None</td>\n",
       "      <td>None</td>\n",
       "      <td>None</td>\n",
       "      <td>None</td>\n",
       "      <td>None</td>\n",
       "      <td>None</td>\n",
       "      <td>doth_rate</td>\n",
       "      <td>e_rate</td>\n",
       "    </tr>\n",
       "  </tbody>\n",
       "</table>\n",
       "<p>5 rows × 47 columns</p>\n",
       "</div>"
      ],
      "text/plain": [
       "  default initj       sus       vac       lteu       ltet   ltetoj       ltlu  \\\n",
       "1   initj  None  sus_idiv  vac_idiv  lteu_idiv  ltet_idiv     None  ltlu_idiv   \n",
       "2     sus  None      None     v_num      l_inf       None     None       None   \n",
       "3     vac  None      None      None       None       None     None       None   \n",
       "4    lteu  None      None      None       None  le_ntreat     None    lu_prog   \n",
       "5    ltet  None      None      None       None       None  ltt_dur       None   \n",
       "\n",
       "        ltlt ltltoj  ...       snxd       snxt snxtoj       acr   bir  immi  \\\n",
       "1  ltlt_idiv   None  ...  snxd_idiv  snxt_idiv   None  acr_idiv  None  None   \n",
       "2       None   None  ...       None       None   None      None  None  None   \n",
       "3       None   None  ...       None       None   None      None  None  None   \n",
       "4       None   None  ...       None       None   None      None  None  None   \n",
       "5       None   None  ...       None       None   None      None  None  None   \n",
       "\n",
       "    imj  ddis       doth     emi  \n",
       "1  None  None       None    None  \n",
       "2  None  None  doth_rate  e_rate  \n",
       "3  None  None  doth_rate  e_rate  \n",
       "4  None  None  doth_rate  e_rate  \n",
       "5  None  None  doth_rate  e_rate  \n",
       "\n",
       "[5 rows x 47 columns]"
      ]
     },
     "execution_count": 10,
     "metadata": {},
     "output_type": "execute_result"
    }
   ],
   "source": [
    "F.sheets['transitions'][0].head()"
   ]
  },
  {
   "cell_type": "markdown",
   "metadata": {},
   "source": [
    "However, this format is not very helpful for actually working with transitions. The `ProjectFramework` stores a special parsed representation of this in `ProjectFramework.transitions` which is an odict where the key is a parameter name, and the value is a list of tuples for every transition that parameter governs:"
   ]
  },
  {
   "cell_type": "code",
   "execution_count": 11,
   "metadata": {
    "execution": {
     "iopub.execute_input": "2025-05-30T20:04:45.977987Z",
     "iopub.status.busy": "2025-05-30T20:04:45.977679Z",
     "iopub.status.idle": "2025-05-30T20:04:45.984451Z",
     "shell.execute_reply": "2025-05-30T20:04:45.983743Z"
    }
   },
   "outputs": [
    {
     "name": "stdout",
     "output_type": "stream",
     "text": [
      "[('bir', 'sus')]\n",
      "[('sus', 'doth'), ('vac', 'doth'), ('lteu', 'doth'), ('ltet', 'doth'), ('ltlu', 'doth'), ('ltlt', 'doth'), ('susx', 'doth'), ('ltex', 'doth'), ('ltlx', 'doth'), ('spdu', 'doth'), ('spdd', 'doth'), ('spdt', 'doth'), ('spmu', 'doth'), ('spmd', 'doth'), ('spmt', 'doth'), ('spxu', 'doth'), ('spxd', 'doth'), ('spxt', 'doth'), ('sndu', 'doth'), ('sndd', 'doth'), ('sndt', 'doth'), ('snmu', 'doth'), ('snmd', 'doth'), ('snmt', 'doth'), ('snxu', 'doth'), ('snxd', 'doth'), ('snxt', 'doth'), ('acr', 'doth')]\n"
     ]
    }
   ],
   "source": [
    "print(F.transitions['b_rate'])\n",
    "print(F.transitions['doth_rate'])"
   ]
  },
  {
   "cell_type": "markdown",
   "metadata": {},
   "source": [
    "This also illustrates an example of where validation is used - the parsing will fail unresolvably if the `Transitions` sheet is missing from the framework file, so `ProjectFramework._validate()` first checks that the sheet is present and displays an informative error if it is missing."
   ]
  },
  {
   "cell_type": "markdown",
   "metadata": {},
   "source": [
    "Next, the `DataFrames` for compartments, characteristics, parameters, and interactions have the 'Code Name' column set as the index for the `DataFrame`:"
   ]
  },
  {
   "cell_type": "code",
   "execution_count": 12,
   "metadata": {
    "execution": {
     "iopub.execute_input": "2025-05-30T20:04:45.987639Z",
     "iopub.status.busy": "2025-05-30T20:04:45.987377Z",
     "iopub.status.idle": "2025-05-30T20:04:46.009475Z",
     "shell.execute_reply": "2025-05-30T20:04:46.008677Z"
    }
   },
   "outputs": [
    {
     "data": {
      "text/html": [
       "<div>\n",
       "<style scoped>\n",
       "    .dataframe tbody tr th:only-of-type {\n",
       "        vertical-align: middle;\n",
       "    }\n",
       "\n",
       "    .dataframe tbody tr th {\n",
       "        vertical-align: top;\n",
       "    }\n",
       "\n",
       "    .dataframe thead th {\n",
       "        text-align: right;\n",
       "    }\n",
       "</style>\n",
       "<table border=\"1\" class=\"dataframe\">\n",
       "  <thead>\n",
       "    <tr style=\"text-align: right;\">\n",
       "      <th></th>\n",
       "      <th>display name</th>\n",
       "      <th>is source</th>\n",
       "      <th>is sink</th>\n",
       "      <th>is junction</th>\n",
       "      <th>setup weight</th>\n",
       "      <th>calibrate</th>\n",
       "      <th>databook page</th>\n",
       "      <th>databook order</th>\n",
       "      <th>guidance</th>\n",
       "      <th>databook default all</th>\n",
       "      <th>default value</th>\n",
       "      <th>population type</th>\n",
       "      <th>provenance</th>\n",
       "      <th>duration group</th>\n",
       "    </tr>\n",
       "    <tr>\n",
       "      <th>code name</th>\n",
       "      <th></th>\n",
       "      <th></th>\n",
       "      <th></th>\n",
       "      <th></th>\n",
       "      <th></th>\n",
       "      <th></th>\n",
       "      <th></th>\n",
       "      <th></th>\n",
       "      <th></th>\n",
       "      <th></th>\n",
       "      <th></th>\n",
       "      <th></th>\n",
       "      <th></th>\n",
       "      <th></th>\n",
       "    </tr>\n",
       "  </thead>\n",
       "  <tbody>\n",
       "    <tr>\n",
       "      <th>initj</th>\n",
       "      <td>Initialization population size</td>\n",
       "      <td>n</td>\n",
       "      <td>n</td>\n",
       "      <td>y</td>\n",
       "      <td>1.0</td>\n",
       "      <td>None</td>\n",
       "      <td>sh_init</td>\n",
       "      <td>NaN</td>\n",
       "      <td>Enter the total number of people in each popul...</td>\n",
       "      <td>n</td>\n",
       "      <td>NaN</td>\n",
       "      <td>default</td>\n",
       "      <td>Framework-supplied default</td>\n",
       "      <td>None</td>\n",
       "    </tr>\n",
       "    <tr>\n",
       "      <th>sus</th>\n",
       "      <td>Susceptible</td>\n",
       "      <td>n</td>\n",
       "      <td>n</td>\n",
       "      <td>n</td>\n",
       "      <td>0.0</td>\n",
       "      <td>None</td>\n",
       "      <td>None</td>\n",
       "      <td>NaN</td>\n",
       "      <td>None</td>\n",
       "      <td>n</td>\n",
       "      <td>NaN</td>\n",
       "      <td>default</td>\n",
       "      <td>Framework-supplied default</td>\n",
       "      <td>None</td>\n",
       "    </tr>\n",
       "    <tr>\n",
       "      <th>vac</th>\n",
       "      <td>Vaccinated</td>\n",
       "      <td>n</td>\n",
       "      <td>n</td>\n",
       "      <td>n</td>\n",
       "      <td>0.0</td>\n",
       "      <td>None</td>\n",
       "      <td>None</td>\n",
       "      <td>NaN</td>\n",
       "      <td>None</td>\n",
       "      <td>n</td>\n",
       "      <td>NaN</td>\n",
       "      <td>default</td>\n",
       "      <td>Framework-supplied default</td>\n",
       "      <td>None</td>\n",
       "    </tr>\n",
       "    <tr>\n",
       "      <th>lteu</th>\n",
       "      <td>Early latent untreated (diagnosable)</td>\n",
       "      <td>n</td>\n",
       "      <td>n</td>\n",
       "      <td>n</td>\n",
       "      <td>0.0</td>\n",
       "      <td>None</td>\n",
       "      <td>None</td>\n",
       "      <td>NaN</td>\n",
       "      <td>None</td>\n",
       "      <td>n</td>\n",
       "      <td>NaN</td>\n",
       "      <td>default</td>\n",
       "      <td>Framework-supplied default</td>\n",
       "      <td>None</td>\n",
       "    </tr>\n",
       "    <tr>\n",
       "      <th>ltet</th>\n",
       "      <td>Early latent on treatment</td>\n",
       "      <td>n</td>\n",
       "      <td>n</td>\n",
       "      <td>n</td>\n",
       "      <td>0.0</td>\n",
       "      <td>None</td>\n",
       "      <td>None</td>\n",
       "      <td>NaN</td>\n",
       "      <td>None</td>\n",
       "      <td>n</td>\n",
       "      <td>NaN</td>\n",
       "      <td>default</td>\n",
       "      <td>Framework-supplied default</td>\n",
       "      <td>None</td>\n",
       "    </tr>\n",
       "  </tbody>\n",
       "</table>\n",
       "</div>"
      ],
      "text/plain": [
       "                                   display name is source is sink is junction  \\\n",
       "code name                                                                       \n",
       "initj            Initialization population size         n       n           y   \n",
       "sus                                 Susceptible         n       n           n   \n",
       "vac                                  Vaccinated         n       n           n   \n",
       "lteu       Early latent untreated (diagnosable)         n       n           n   \n",
       "ltet                  Early latent on treatment         n       n           n   \n",
       "\n",
       "           setup weight calibrate databook page  databook order  \\\n",
       "code name                                                         \n",
       "initj               1.0      None       sh_init             NaN   \n",
       "sus                 0.0      None          None             NaN   \n",
       "vac                 0.0      None          None             NaN   \n",
       "lteu                0.0      None          None             NaN   \n",
       "ltet                0.0      None          None             NaN   \n",
       "\n",
       "                                                    guidance  \\\n",
       "code name                                                      \n",
       "initj      Enter the total number of people in each popul...   \n",
       "sus                                                     None   \n",
       "vac                                                     None   \n",
       "lteu                                                    None   \n",
       "ltet                                                    None   \n",
       "\n",
       "          databook default all  default value population type  \\\n",
       "code name                                                       \n",
       "initj                        n            NaN         default   \n",
       "sus                          n            NaN         default   \n",
       "vac                          n            NaN         default   \n",
       "lteu                         n            NaN         default   \n",
       "ltet                         n            NaN         default   \n",
       "\n",
       "                           provenance duration group  \n",
       "code name                                             \n",
       "initj      Framework-supplied default           None  \n",
       "sus        Framework-supplied default           None  \n",
       "vac        Framework-supplied default           None  \n",
       "lteu       Framework-supplied default           None  \n",
       "ltet       Framework-supplied default           None  "
      ]
     },
     "execution_count": 12,
     "metadata": {},
     "output_type": "execute_result"
    }
   ],
   "source": [
    "F.sheets['compartments'][0].head()"
   ]
  },
  {
   "cell_type": "markdown",
   "metadata": {},
   "source": [
    "This means that you can access a row of this `DataFrame` using `.loc` and passing in the code name of the quantity. For example:"
   ]
  },
  {
   "cell_type": "code",
   "execution_count": 13,
   "metadata": {
    "execution": {
     "iopub.execute_input": "2025-05-30T20:04:46.012526Z",
     "iopub.status.busy": "2025-05-30T20:04:46.012259Z",
     "iopub.status.idle": "2025-05-30T20:04:46.021873Z",
     "shell.execute_reply": "2025-05-30T20:04:46.021113Z"
    }
   },
   "outputs": [
    {
     "data": {
      "text/plain": [
       "display name                           Susceptible\n",
       "is source                                        n\n",
       "is sink                                          n\n",
       "is junction                                      n\n",
       "setup weight                                   0.0\n",
       "calibrate                                     None\n",
       "databook page                                 None\n",
       "databook order                                 NaN\n",
       "guidance                                      None\n",
       "databook default all                             n\n",
       "default value                                  NaN\n",
       "population type                            default\n",
       "provenance              Framework-supplied default\n",
       "duration group                                None\n",
       "Name: sus, dtype: object"
      ]
     },
     "execution_count": 13,
     "metadata": {},
     "output_type": "execute_result"
    }
   ],
   "source": [
    "F.sheets['compartments'][0].loc['sus']"
   ]
  },
  {
   "cell_type": "markdown",
   "metadata": {},
   "source": [
    "As usual, the `.loc` method returns a Pandas `Series` object, which is similar to a `dict()`. Note that the `name` of the `Series` is the code name of the quantity i.e."
   ]
  },
  {
   "cell_type": "code",
   "execution_count": 14,
   "metadata": {
    "execution": {
     "iopub.execute_input": "2025-05-30T20:04:46.025520Z",
     "iopub.status.busy": "2025-05-30T20:04:46.025243Z",
     "iopub.status.idle": "2025-05-30T20:04:46.032906Z",
     "shell.execute_reply": "2025-05-30T20:04:46.032295Z"
    }
   },
   "outputs": [
    {
     "data": {
      "text/plain": [
       "'sus'"
      ]
     },
     "execution_count": 14,
     "metadata": {},
     "output_type": "execute_result"
    }
   ],
   "source": [
    "F.sheets['compartments'][0].loc['sus'].name"
   ]
  },
  {
   "cell_type": "markdown",
   "metadata": {},
   "source": [
    "This allows you to retrieve the code name based only on the `Series` object - so for example, if you retrieved that row by index rather than by name "
   ]
  },
  {
   "cell_type": "code",
   "execution_count": 15,
   "metadata": {
    "execution": {
     "iopub.execute_input": "2025-05-30T20:04:46.036542Z",
     "iopub.status.busy": "2025-05-30T20:04:46.036278Z",
     "iopub.status.idle": "2025-05-30T20:04:46.045000Z",
     "shell.execute_reply": "2025-05-30T20:04:46.044224Z"
    }
   },
   "outputs": [
    {
     "name": "stdout",
     "output_type": "stream",
     "text": [
      "display name                               Initialization population size\n",
      "is source                                                               n\n",
      "is sink                                                                 n\n",
      "is junction                                                             y\n",
      "setup weight                                                          1.0\n",
      "calibrate                                                            None\n",
      "databook page                                                     sh_init\n",
      "databook order                                                        NaN\n",
      "guidance                Enter the total number of people in each popul...\n",
      "databook default all                                                    n\n",
      "default value                                                         NaN\n",
      "population type                                                   default\n",
      "provenance                                     Framework-supplied default\n",
      "duration group                                                       None\n",
      "Name: initj, dtype: object\n"
     ]
    }
   ],
   "source": [
    "row = F.sheets['compartments'][0].iloc[0]\n",
    "print(row)"
   ]
  },
  {
   "cell_type": "markdown",
   "metadata": {},
   "source": [
    "then you can still recover the name"
   ]
  },
  {
   "cell_type": "code",
   "execution_count": 16,
   "metadata": {
    "execution": {
     "iopub.execute_input": "2025-05-30T20:04:46.048372Z",
     "iopub.status.busy": "2025-05-30T20:04:46.048101Z",
     "iopub.status.idle": "2025-05-30T20:04:46.057476Z",
     "shell.execute_reply": "2025-05-30T20:04:46.056440Z"
    }
   },
   "outputs": [
    {
     "data": {
      "text/plain": [
       "'initj'"
      ]
     },
     "execution_count": 16,
     "metadata": {},
     "output_type": "execute_result"
    }
   ],
   "source": [
    "row.name"
   ]
  },
  {
   "cell_type": "markdown",
   "metadata": {},
   "source": [
    "Because the column names have also been set in the `DataFrame`, you can index the `Series` using the column name to retrieve a specific property. For example, if we want to check which databook page the `vac` compartment is on:"
   ]
  },
  {
   "cell_type": "code",
   "execution_count": 17,
   "metadata": {
    "execution": {
     "iopub.execute_input": "2025-05-30T20:04:46.060963Z",
     "iopub.status.busy": "2025-05-30T20:04:46.060509Z",
     "iopub.status.idle": "2025-05-30T20:04:46.067037Z",
     "shell.execute_reply": "2025-05-30T20:04:46.066170Z"
    }
   },
   "outputs": [],
   "source": [
    "F.sheets['compartments'][0].loc['vac']['databook page']"
   ]
  },
  {
   "cell_type": "markdown",
   "metadata": {},
   "source": [
    "The column names are read straight from the Excel file - any additional columns will automatically appear and be usable. Note that there should be an exact match between the name of the column in the Excel file, and the string used in the code (for example, you could not use `F.sheets['Compartments'].loc['vac']['Databook page']` because it is case sensitive)"
   ]
  },
  {
   "cell_type": "markdown",
   "metadata": {},
   "source": [
    "For convenience, the `.comps`, `.pars`, `.characs`, and `.interactions` property methods map to their corresponding sheets. That is, `F.comps` is shorthand for `F.sheets['Compartments']`. So the above command could instead be"
   ]
  },
  {
   "cell_type": "code",
   "execution_count": 18,
   "metadata": {
    "execution": {
     "iopub.execute_input": "2025-05-30T20:04:46.070893Z",
     "iopub.status.busy": "2025-05-30T20:04:46.070579Z",
     "iopub.status.idle": "2025-05-30T20:04:46.077748Z",
     "shell.execute_reply": "2025-05-30T20:04:46.075452Z"
    }
   },
   "outputs": [],
   "source": [
    "F.comps.loc['vac']['databook page']"
   ]
  },
  {
   "cell_type": "markdown",
   "metadata": {},
   "source": [
    "Those properties directly return the `DataFrame` in `F.sheets` so if you modify the `DataFrame` via `F.comps` it will be changed everywhere. \n",
    "\n",
    "Finding specific items by their code name is very common. To facilitate this, you can use the `.get_comp`, `.get_charac`, `.get_par`, and `.get_interaction` property methods to look up rows of the corresponding `DataFrames` by code name. For example, to retrieve the row for `vac`, instead of `F.comps.loc['vac']` you can use"
   ]
  },
  {
   "cell_type": "code",
   "execution_count": 19,
   "metadata": {
    "execution": {
     "iopub.execute_input": "2025-05-30T20:04:46.081047Z",
     "iopub.status.busy": "2025-05-30T20:04:46.080740Z",
     "iopub.status.idle": "2025-05-30T20:04:46.090606Z",
     "shell.execute_reply": "2025-05-30T20:04:46.089967Z"
    }
   },
   "outputs": [
    {
     "data": {
      "text/plain": [
       "display name                            Vaccinated\n",
       "is source                                        n\n",
       "is sink                                          n\n",
       "is junction                                      n\n",
       "setup weight                                   0.0\n",
       "calibrate                                     None\n",
       "databook page                                 None\n",
       "databook order                                 NaN\n",
       "guidance                                      None\n",
       "databook default all                             n\n",
       "default value                                  NaN\n",
       "population type                            default\n",
       "provenance              Framework-supplied default\n",
       "duration group                                None\n",
       "Name: vac, dtype: object"
      ]
     },
     "execution_count": 19,
     "metadata": {},
     "output_type": "execute_result"
    }
   ],
   "source": [
    "F.get_comp('vac')"
   ]
  },
  {
   "cell_type": "markdown",
   "metadata": {},
   "source": [
    "So looking up the databook page can be made even simpler:"
   ]
  },
  {
   "cell_type": "code",
   "execution_count": 20,
   "metadata": {
    "execution": {
     "iopub.execute_input": "2025-05-30T20:04:46.094112Z",
     "iopub.status.busy": "2025-05-30T20:04:46.093810Z",
     "iopub.status.idle": "2025-05-30T20:04:46.101094Z",
     "shell.execute_reply": "2025-05-30T20:04:46.100354Z"
    }
   },
   "outputs": [],
   "source": [
    "F.get_comp('vac')['databook page']"
   ]
  },
  {
   "cell_type": "markdown",
   "metadata": {},
   "source": [
    "Sometimes you might know the code name without knowing the type of the variable - for example, only given the code name `'alive'`, should you be looking up a compartment or a characteristic? In that case, you can use the `.get_variable()` method which will search for the name in each of compartments, characteristics, parameters, and interactions. The return value is a tuple where the first entry is the row of the `DataFrame`, and the second entry is a string like `'comp'`, `'par'`, `'charac'`, which identifies what type of variable was passed in"
   ]
  },
  {
   "cell_type": "code",
   "execution_count": 21,
   "metadata": {
    "execution": {
     "iopub.execute_input": "2025-05-30T20:04:46.104395Z",
     "iopub.status.busy": "2025-05-30T20:04:46.104109Z",
     "iopub.status.idle": "2025-05-30T20:04:46.113430Z",
     "shell.execute_reply": "2025-05-30T20:04:46.112786Z"
    }
   },
   "outputs": [
    {
     "data": {
      "text/plain": [
       "(display name                            Vaccinated\n",
       " is source                                        n\n",
       " is sink                                          n\n",
       " is junction                                      n\n",
       " setup weight                                   0.0\n",
       " calibrate                                     None\n",
       " databook page                                 None\n",
       " databook order                                 NaN\n",
       " guidance                                      None\n",
       " databook default all                             n\n",
       " default value                                  NaN\n",
       " population type                            default\n",
       " provenance              Framework-supplied default\n",
       " duration group                                None\n",
       " Name: vac, dtype: object,\n",
       " 'comp')"
      ]
     },
     "execution_count": 21,
     "metadata": {},
     "output_type": "execute_result"
    }
   ],
   "source": [
    "F.get_variable('vac')"
   ]
  },
  {
   "cell_type": "markdown",
   "metadata": {},
   "source": [
    "Finally, sometimes you might have the display name, and not the code name. You can also pass a display name into `get_variable()` and it will retrieve the corresponding item"
   ]
  },
  {
   "cell_type": "code",
   "execution_count": 22,
   "metadata": {
    "execution": {
     "iopub.execute_input": "2025-05-30T20:04:46.116752Z",
     "iopub.status.busy": "2025-05-30T20:04:46.116480Z",
     "iopub.status.idle": "2025-05-30T20:04:46.126516Z",
     "shell.execute_reply": "2025-05-30T20:04:46.125743Z"
    }
   },
   "outputs": [
    {
     "data": {
      "text/plain": [
       "(display name                            Vaccinated\n",
       " is source                                        n\n",
       " is sink                                          n\n",
       " is junction                                      n\n",
       " setup weight                                   0.0\n",
       " calibrate                                     None\n",
       " databook page                                 None\n",
       " databook order                                 NaN\n",
       " guidance                                      None\n",
       " databook default all                             n\n",
       " default value                                  NaN\n",
       " population type                            default\n",
       " provenance              Framework-supplied default\n",
       " duration group                                None\n",
       " Name: vac, dtype: object,\n",
       " 'comp')"
      ]
     },
     "execution_count": 22,
     "metadata": {},
     "output_type": "execute_result"
    }
   ],
   "source": [
    "F.get_variable('Vaccinated')"
   ]
  },
  {
   "cell_type": "markdown",
   "metadata": {},
   "source": [
    "Note that these functions rely on the fact that code names and display names are supposed to be unique across all of the different variable types (i.e. not only can you not have two compartments with the same name, you cannot give a parameter the same name as a compartment). This is checked for in `ProjectFramework._validate()`."
   ]
  },
  {
   "cell_type": "markdown",
   "metadata": {},
   "source": [
    "## Iterating over items\n",
    "\n",
    "The simplest way to iterate over rows of a `DataFrame` is using the `iterrows()` method of the `DataFrame`. For example, to loop over all compartments, you could use:"
   ]
  },
  {
   "cell_type": "code",
   "execution_count": 23,
   "metadata": {
    "execution": {
     "iopub.execute_input": "2025-05-30T20:04:46.129750Z",
     "iopub.status.busy": "2025-05-30T20:04:46.129486Z",
     "iopub.status.idle": "2025-05-30T20:04:46.142733Z",
     "shell.execute_reply": "2025-05-30T20:04:46.141988Z"
    }
   },
   "outputs": [
    {
     "name": "stdout",
     "output_type": "stream",
     "text": [
      "initj-n\n",
      "sus-n\n",
      "vac-n\n",
      "lteu-n\n",
      "ltet-n\n",
      "ltetoj-n\n",
      "ltlu-n\n",
      "ltlt-n\n",
      "ltltoj-n\n",
      "susx-n\n",
      "ltex-n\n",
      "ltlx-n\n",
      "acj-n\n",
      "spj-n\n",
      "spdu-n\n",
      "spdd-n\n",
      "spdt-n\n",
      "spdtoj-n\n",
      "spmu-n\n",
      "spmd-n\n",
      "spmt-n\n",
      "spmtoj-n\n",
      "spxu-n\n",
      "spxd-n\n",
      "spxt-n\n",
      "spxtoj-n\n",
      "snj-n\n",
      "sndu-n\n",
      "sndd-n\n",
      "sndt-n\n",
      "sndtoj-n\n",
      "snmu-n\n",
      "snmd-n\n",
      "snmt-n\n",
      "snmtoj-n\n",
      "snxu-n\n",
      "snxd-n\n",
      "snxt-n\n",
      "snxtoj-n\n",
      "acr-n\n",
      "bir-y\n",
      "immi-y\n",
      "imj-n\n",
      "ddis-n\n",
      "doth-n\n",
      "emi-n\n"
     ]
    }
   ],
   "source": [
    "for _,row in F.comps.iterrows():\n",
    "    print('%s-%s' % (row.name,row['is source']))"
   ]
  },
  {
   "cell_type": "markdown",
   "metadata": {},
   "source": [
    "Notice how the `.name` property can be used inside the loop in order to identify the code name for the row.\n",
    "\n",
    "Although simple, this operation is relatively computationally expensive because it creates a `Series` object for every row. If performance is critical (for example, during `Model.build()`) then it is better to use the `.at` method of the `DataFrame`. For example:"
   ]
  },
  {
   "cell_type": "code",
   "execution_count": 24,
   "metadata": {
    "execution": {
     "iopub.execute_input": "2025-05-30T20:04:46.145943Z",
     "iopub.status.busy": "2025-05-30T20:04:46.145670Z",
     "iopub.status.idle": "2025-05-30T20:04:46.154408Z",
     "shell.execute_reply": "2025-05-30T20:04:46.153710Z"
    }
   },
   "outputs": [
    {
     "data": {
      "text/plain": [
       "'n'"
      ]
     },
     "execution_count": 24,
     "metadata": {},
     "output_type": "execute_result"
    }
   ],
   "source": [
    "F.comps.at['sus','is source']"
   ]
  },
  {
   "cell_type": "markdown",
   "metadata": {},
   "source": [
    "In a loop, you would then have to first look up the index values and then iterate over them:"
   ]
  },
  {
   "cell_type": "code",
   "execution_count": 25,
   "metadata": {
    "execution": {
     "iopub.execute_input": "2025-05-30T20:04:46.157792Z",
     "iopub.status.busy": "2025-05-30T20:04:46.157502Z",
     "iopub.status.idle": "2025-05-30T20:04:46.165620Z",
     "shell.execute_reply": "2025-05-30T20:04:46.164873Z"
    }
   },
   "outputs": [
    {
     "name": "stdout",
     "output_type": "stream",
     "text": [
      "initj-n\n",
      "sus-n\n",
      "vac-n\n",
      "lteu-n\n",
      "ltet-n\n",
      "ltetoj-n\n",
      "ltlu-n\n",
      "ltlt-n\n",
      "ltltoj-n\n",
      "susx-n\n",
      "ltex-n\n",
      "ltlx-n\n",
      "acj-n\n",
      "spj-n\n",
      "spdu-n\n",
      "spdd-n\n",
      "spdt-n\n",
      "spdtoj-n\n",
      "spmu-n\n",
      "spmd-n\n",
      "spmt-n\n",
      "spmtoj-n\n",
      "spxu-n\n",
      "spxd-n\n",
      "spxt-n\n",
      "spxtoj-n\n",
      "snj-n\n",
      "sndu-n\n",
      "sndd-n\n",
      "sndt-n\n",
      "sndtoj-n\n",
      "snmu-n\n",
      "snmd-n\n",
      "snmt-n\n",
      "snmtoj-n\n",
      "snxu-n\n",
      "snxd-n\n",
      "snxt-n\n",
      "snxtoj-n\n",
      "acr-n\n",
      "bir-y\n",
      "immi-y\n",
      "imj-n\n",
      "ddis-n\n",
      "doth-n\n",
      "emi-n\n"
     ]
    }
   ],
   "source": [
    "for comp_name in list(F.comps.index):\n",
    "    print('%s-%s' % (comp_name,F.comps.at[comp_name,'is source']))"
   ]
  }
 ],
 "metadata": {
  "kernelspec": {
   "display_name": "Python [conda env:optima3]",
   "language": "python",
   "name": "conda-env-optima3-py"
  },
  "language_info": {
   "codemirror_mode": {
    "name": "ipython",
    "version": 3
   },
   "file_extension": ".py",
   "mimetype": "text/x-python",
   "name": "python",
   "nbconvert_exporter": "python",
   "pygments_lexer": "ipython3",
   "version": "3.12.10"
  },
  "toc": {
   "base_numbering": 1,
   "nav_menu": {},
   "number_sections": true,
   "sideBar": true,
   "skip_h1_title": false,
   "title_cell": "Table of Contents",
   "title_sidebar": "Contents",
   "toc_cell": false,
   "toc_position": {},
   "toc_section_display": true,
   "toc_window_display": false
  }
 },
 "nbformat": 4,
 "nbformat_minor": 2
}
